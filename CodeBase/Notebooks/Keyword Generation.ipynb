{
 "cells": [
  {
   "cell_type": "code",
   "execution_count": 1,
   "id": "827deedb",
   "metadata": {},
   "outputs": [],
   "source": [
    "# !pip install pymed\n",
    "# ! pip install nltk\n",
    "# import nltk\n",
    "# nltk.download('stopwords')\n",
    "# nltk.download('punkt')\n",
    "# !pip install biopython\n",
    "# !pip install ahocorapy\n",
    "# !pip install pandas\n",
    "# !pip install wordcloud\n",
    "# !pip install matplotlib"
   ]
  },
  {
   "cell_type": "markdown",
   "id": "660fea81",
   "metadata": {},
   "source": [
    "## Search PUBMED"
   ]
  },
  {
   "cell_type": "code",
   "execution_count": 3,
   "id": "28c88b6a",
   "metadata": {},
   "outputs": [],
   "source": [
    "def pubMedSearcher(search_term,max_count):\n",
    "    from pymed import PubMed\n",
    "    pubmed = PubMed(tool=\"PubMedSearcher\", email=\"myemail@ccc.com\")\n",
    "    search_term = search_term.rstrip(';')\n",
    "    if ';' in search_term:\n",
    "        search_term = search_term.split(\";\")\n",
    "\n",
    "        query = \"\"\n",
    "        for i in range(len(search_term)-1):\n",
    "            query+=f\"({search_term[i]}) AND \"\n",
    "        query = query+f\"({search_term[i+1]})\"\n",
    "    else:\n",
    "        query = search_term\n",
    "    print(query)\n",
    "    ## PUT YOUR SEARCH TERM HERE ##\n",
    "    results = pubmed.query(query, max_results=max_count)\n",
    "    articleList = []\n",
    "    articleInfo = []\n",
    "    \n",
    "    for article in results:\n",
    "    # Print the type of object we've found (can be either PubMedBookArticle or PubMedArticle).\n",
    "    # We need to convert it to dictionary with available function\n",
    "        articleDict = article.toDict()\n",
    "        articleList.append(articleDict)\n",
    "\n",
    "    # Generate list of dict records which will hold all article details that could be fetch from PUBMED API\n",
    "    for article in articleList:\n",
    "    #Sometimes article['pubmed_id'] contains list separated with comma - take first pubmedId in that list - thats article pubmedId\n",
    "        pubmedId = article['pubmed_id'].partition('\\n')[0]\n",
    "        # Append article info to dictionary \n",
    "        articleInfo.append({u'pubmed_id':pubmedId,\n",
    "                           u'title':article['title'] if 'title' in article else [],\n",
    "                           u'keywords':article['keywords'] if 'keywords' in article else [],\n",
    "                           u'journal':article['journal'] if 'journal' in article else [],\n",
    "                           u'abstract':article['abstract'] if 'abstract' in article else [],\n",
    "                           u'conclusions':article['conclusions'] if 'conclusions' in article else [],\n",
    "                           u'methods':article['methods'] if 'methods' in article else [],\n",
    "                           u'results': article['results'] if 'results' in article else [],\n",
    "                           u'copyrights':article['copyrights'] if 'copyrights' in article else [],\n",
    "                           u'doi':article['doi'] if 'doi' in article else [],\n",
    "                           u'publication_date':article['publication_date'] if 'publication_date' in article else [], \n",
    "                           u'authors':article['authors'] if 'authors' in article else []})\n",
    "\n",
    "#     # Generate Pandas DataFrame from list of dictionaries\n",
    "#     articlesPD = pd.DataFrame.from_dict(articleInfo)\n",
    "#     export_csv = df.to_csv (r'C:\\Users\\YourUsernam\\Desktop\\export_dataframe.csv', index = None, header=True) \n",
    "\n",
    "#     #Print first 10 rows of dataframe\n",
    "#     print(articlesPD.head(10))\n",
    "    return articleInfo"
   ]
  },
  {
   "cell_type": "code",
   "execution_count": 2,
   "id": "2f32ce0f",
   "metadata": {},
   "outputs": [],
   "source": [
    "# search = 'affinity'\n",
    "# articles = pubMedSearcher(search,50)\n",
    "# len(articles)"
   ]
  },
  {
   "cell_type": "markdown",
   "id": "c3c4a49c",
   "metadata": {},
   "source": [
    "## extract abstract keywords"
   ]
  },
  {
   "cell_type": "code",
   "execution_count": 6,
   "id": "a1dd7978",
   "metadata": {
    "scrolled": true
   },
   "outputs": [],
   "source": [
    "def get_tree():\n",
    "    import re\n",
    "\n",
    "    mesh_keywords = []\n",
    "    dmeshFile = 'd2021.bin'\n",
    "    qmeshFile = 'q2021.bin'\n",
    "    cmeshFile = 'c2021.bin'\n",
    "    cdmeshFile = 'c2021_disease.bin'\n",
    "    \n",
    "    # descriptors\n",
    "    with open(dmeshFile, mode='rb') as file:\n",
    "        dmesh = file.readlines()\n",
    "    for line in dmesh:\n",
    "        meshTerm = re.search(b'MH = (.+)$', line)\n",
    "        if meshTerm:\n",
    "            term = meshTerm.group(1)\n",
    "            mesh_keywords.append(term.decode('utf-8'))\n",
    "\n",
    "    # qualifiers\n",
    "    with open(qmeshFile, mode='rb') as file:\n",
    "        qmesh = file.readlines()\n",
    "    for line in qmesh:\n",
    "        meshTerm = re.search(b'SH = (.+)$', line)\n",
    "        if meshTerm:\n",
    "            term = meshTerm.group(1)\n",
    "            mesh_keywords.append(term.decode('utf-8'))\n",
    "\n",
    "    # Supplementary Records\n",
    "    with open(cmeshFile, mode='rb') as file:\n",
    "        cmesh = file.readlines()\n",
    "    for line in cmesh:\n",
    "        meshTerm = re.search(b'NM = (.+)$', line)\n",
    "        if meshTerm:\n",
    "            term = meshTerm.group(1)\n",
    "            mesh_keywords.append(term.decode('utf-8'))\n",
    "\n",
    "    # Supplementary Records - Diseases\n",
    "    with open(cdmeshFile, mode='rb') as file:\n",
    "        cdmesh = file.readlines()\n",
    "    for line in cdmesh:\n",
    "        meshTerm = re.search(b'NM  = (.+)$', line)\n",
    "        if meshTerm:\n",
    "            term = meshTerm.group(1)\n",
    "            mesh_keywords.append(term.decode('utf-8'))\n",
    "\n",
    "    from ahocorapy.keywordtree import KeywordTree\n",
    "    kwtree = KeywordTree(case_insensitive=True)\n",
    "\n",
    "    for kw in mesh_keywords:\n",
    "        kwtree.add(kw)\n",
    "\n",
    "    kwtree.finalize()\n",
    "    return kwtree\n",
    "\n",
    "def get_abstract_keywords(kwtree,textblob):\n",
    "    from nltk.corpus import stopwords\n",
    "    stop_words = set(stopwords.words('english'))\n",
    "    if textblob:\n",
    "        results = kwtree.search_all(textblob)\n",
    "        keywords = []\n",
    "        for res in results:\n",
    "            if res is not None and res[0] not in stop_words:\n",
    "                keywords.append(res[0])\n",
    "        return list(set(keywords))\n",
    "    else:\n",
    "        return []\n",
    "\n",
    "kwtree = get_tree()"
   ]
  },
  {
   "cell_type": "code",
   "execution_count": 7,
   "id": "50e2936b",
   "metadata": {},
   "outputs": [
    {
     "data": {
      "text/plain": [
       "13367"
      ]
     },
     "execution_count": 7,
     "metadata": {},
     "output_type": "execute_result"
    }
   ],
   "source": [
    "len(articles)"
   ]
  },
  {
   "cell_type": "code",
   "execution_count": 8,
   "id": "9358b2d1",
   "metadata": {
    "scrolled": true
   },
   "outputs": [],
   "source": [
    "# abstract_keywords = {}\n",
    "# for paper in articles:\n",
    "#     abstract_keywords[str(paper['pubmed_id'])] = get_abstract_keywords(kwtree,paper['abstract'])\n",
    "#     abstract_keywords[str(paper['pubmed_id'])].extend(get_abstract_keywords(kwtree,paper['title']))\n",
    "#     abstract_keywords[str(paper['pubmed_id'])] = list(set(abstract_keywords[str(paper['pubmed_id'])]))\n",
    "    \n",
    "# len(abstract_keywords)"
   ]
  },
  {
   "cell_type": "markdown",
   "id": "bfb033b4",
   "metadata": {},
   "source": [
    "## extract related keywords"
   ]
  },
  {
   "cell_type": "code",
   "execution_count": 9,
   "id": "79b65637",
   "metadata": {},
   "outputs": [],
   "source": [
    "def get_related_keywords(papers):\n",
    "    keywords_related = {}\n",
    "    for paper in papers:\n",
    "        keywords_related[str(paper['pubmed_id'])] = paper['keywords']\n",
    "    return keywords_related\n"
   ]
  },
  {
   "cell_type": "code",
   "execution_count": 10,
   "id": "f9151b14",
   "metadata": {},
   "outputs": [],
   "source": [
    "# related_keywords = get_related_keywords(articles)\n",
    "# len(related_keywords)"
   ]
  },
  {
   "cell_type": "markdown",
   "id": "a0e06438",
   "metadata": {},
   "source": [
    "## extract predefined keywords"
   ]
  },
  {
   "cell_type": "code",
   "execution_count": 11,
   "id": "b8d95ed2",
   "metadata": {},
   "outputs": [],
   "source": [
    "import pandas as pd\n",
    "\n",
    "def get_fixed_tree():\n",
    "    from ahocorapy.keywordtree import KeywordTree\n",
    "    mesh_keywords = []\n",
    "    File = 'master keywords list.csv'\n",
    "    keywords = pd.read_csv(File,names =['keyword'])['keyword'].to_list()\n",
    "    kwtree = KeywordTree(case_insensitive=True)\n",
    "    for kw in keywords:\n",
    "        kwtree.add(kw)\n",
    "    kwtree.finalize()\n",
    "    return kwtree\n",
    "\n",
    "def get_predefined_keywords(kwtree,textblob):\n",
    "    from nltk.corpus import stopwords\n",
    "    stop_words = set(stopwords.words('english'))\n",
    "    if textblob:\n",
    "        textblob = textblob.replace('-',' ')\n",
    "        results = kwtree.search_all(textblob)\n",
    "        keywords = []\n",
    "        for res in results:\n",
    "            if res is not None and res[0] not in stop_words:\n",
    "                keywords.append(res[0].lower())\n",
    "        return list(set(keywords))\n",
    "    else:\n",
    "        return []\n",
    "\n",
    "pkwtree = get_fixed_tree()"
   ]
  },
  {
   "cell_type": "code",
   "execution_count": 12,
   "id": "5b18636b",
   "metadata": {},
   "outputs": [],
   "source": [
    "# predefined_keywords = {}\n",
    "# for paper in articles:\n",
    "#     predefined_keywords[str(paper['pubmed_id'])] = get_predefined_keywords(pkwtree,paper['abstract'])\n",
    "#     predefined_keywords[str(paper['pubmed_id'])].extend(get_predefined_keywords(pkwtree,paper['title']))\n",
    "#     predefined_keywords[str(paper['pubmed_id'])] = list(set(predefined_keywords[str(paper['pubmed_id'])]))\n",
    "# len(predefined_keywords)"
   ]
  },
  {
   "cell_type": "markdown",
   "id": "86a04f26",
   "metadata": {},
   "source": [
    "## extract Expanded keywords"
   ]
  },
  {
   "cell_type": "code",
   "execution_count": 13,
   "id": "c0196b67",
   "metadata": {
    "scrolled": true
   },
   "outputs": [],
   "source": [
    "import json\n",
    "def paper_keywords_mesh(papers):\n",
    "    mesh_keywrds_extracted = {}\n",
    "    for paper in papers:\n",
    "        mesh_keywrds_extracted[paper['pubmed_id']] = paper['mesh_terms']\n",
    "    return mesh_keywrds_extracted\n",
    "\n",
    "\n",
    "def get_expanded_keywords(mesh_database, mesh_keywrds_extracted):\n",
    "    expanded_keywords = {}\n",
    "    for pmid, keywords in mesh_keywrds_extracted.items():\n",
    "        expanded_keywords[pmid] = []\n",
    "        for keyword in keywords:\n",
    "            if keyword[0] in mesh_database.keys():\n",
    "                for key, value in mesh_database[keyword[0]].items():\n",
    "                    if key in ['subheads', 'subheads_synonyms', 'synonyms', 'cross_reference', 'pharmalogical_actions',\n",
    "                               'synonym_combination'] and value:\n",
    "                        expanded_keywords[pmid].extend(value)\n",
    "        expanded_keywords[pmid] = list(set(expanded_keywords[pmid]))\n",
    "    return expanded_keywords"
   ]
  },
  {
   "cell_type": "code",
   "execution_count": 14,
   "id": "73b43e5a",
   "metadata": {},
   "outputs": [],
   "source": [
    "with open('mesh_database.json','r') as f:\n",
    "    mesh_database = json.load(f)\n",
    "    \n",
    "\n",
    "# mesh_keywrds_extracted = paper_keywords_mesh(papers)\n",
    "# expanded_keywords = get_expanded_keywords(mesh_database, mesh_keywrds_extracted)\n",
    "\n",
    "# len(expanded_keywords)"
   ]
  },
  {
   "cell_type": "markdown",
   "id": "bbb123a6",
   "metadata": {},
   "source": [
    "## Keyword Generation\n",
    "\n",
    "1. predefined keywords - keywords found directly from the master list apart from the search term\n",
    "2. abstract keywords - keywords extracted from abstract and title of the paper using a mesh keyword extractor\n",
    "3. related keywords- keywords extracted from the pubmed response dict in keyword key\n",
    "4. expanded keywords - keywords extracted from mesh term related [descriptors,qualifiers and Supplementary Chemical Records](https://www.nlm.nih.gov/mesh/intro_record_types.html)"
   ]
  },
  {
   "cell_type": "code",
   "execution_count": 4,
   "id": "d99da8ff",
   "metadata": {},
   "outputs": [],
   "source": [
    "import json\n",
    "from Bio import Entrez\n",
    "\n",
    "def related_keywords_mesh(papers):\n",
    "    mesh_kewords_related = {}\n",
    "    for paper in papers:\n",
    "        mesh_kewords_related[paper['title']] = paper['mesh_terms']\n",
    "    return mesh_kewords_related\n",
    "\n",
    "import json\n",
    "import dateutil.parser\n",
    "\n",
    "# custom Decoder\n",
    "def DecodeDateTime(Dict):\n",
    "    if 'publication_date' in Dict and Dict[\"publication_date\"]!=None:\n",
    "        Dict[\"publication_date\"] = dateutil.parser.parse(Dict[\"publication_date\"])\n",
    "        return Dict\n",
    "    else:\n",
    "        return Dict\n",
    "\n",
    "# use of object_hook\n",
    "with open('cache_articles.json', 'r') as f:\n",
    "    decoded_cache_articles = json.load(f,object_hook=DecodeDateTime)\n",
    "    "
   ]
  },
  {
   "cell_type": "code",
   "execution_count": 21,
   "id": "0413bec6",
   "metadata": {
    "scrolled": true
   },
   "outputs": [
    {
     "name": "stdout",
     "output_type": "stream",
     "text": [
      "Wall time: 0 ns\n"
     ]
    },
    {
     "data": {
      "text/plain": [
       "13367"
      ]
     },
     "execution_count": 21,
     "metadata": {},
     "output_type": "execute_result"
    }
   ],
   "source": [
    "%%time\n",
    "search = 'ionic liquids'\n",
    "articles = pubMedSearcher(search,15000)\n",
    "len(articles)\n",
    "\n",
    "search_term = \"virus capsid;virus-like particles;Protein A\"\n",
    "searchterms = search_term.split(\";\")\n",
    "print(searchterms)\n",
    "search_database = []\n",
    "\n",
    "for st in searchterms:\n",
    "    if st in decoded_cache_articles:\n",
    "        search_database.extend(decoded_cache_articles[st])\n",
    "articles = search_database\n",
    "\n",
    "len(articles)"
   ]
  },
  {
   "cell_type": "code",
   "execution_count": 15,
   "id": "071deb5c",
   "metadata": {},
   "outputs": [
    {
     "name": "stdout",
     "output_type": "stream",
     "text": [
      "Wall time: 44.1 s\n"
     ]
    },
    {
     "data": {
      "text/plain": [
       "4749"
      ]
     },
     "execution_count": 15,
     "metadata": {},
     "output_type": "execute_result"
    }
   ],
   "source": [
    "%%time\n",
    "abstract_keywords = {}\n",
    "for paper in articles:\n",
    "    abstract_keywords[str(paper['pubmed_id'])] = get_abstract_keywords(kwtree,paper['abstract'])\n",
    "    abstract_keywords[str(paper['pubmed_id'])].extend(get_abstract_keywords(kwtree,paper['title']))\n",
    "    abstract_keywords[str(paper['pubmed_id'])] = list(set(abstract_keywords[str(paper['pubmed_id'])]))\n",
    "    \n",
    "len(abstract_keywords)"
   ]
  },
  {
   "cell_type": "code",
   "execution_count": 16,
   "id": "6cc95539",
   "metadata": {
    "scrolled": true
   },
   "outputs": [
    {
     "name": "stdout",
     "output_type": "stream",
     "text": [
      "Wall time: 20.1 ms\n"
     ]
    },
    {
     "data": {
      "text/plain": [
       "4749"
      ]
     },
     "execution_count": 16,
     "metadata": {},
     "output_type": "execute_result"
    }
   ],
   "source": [
    "%%time\n",
    "related_keywords = get_related_keywords(articles)\n",
    "len(related_keywords)"
   ]
  },
  {
   "cell_type": "code",
   "execution_count": 17,
   "id": "e895f304",
   "metadata": {},
   "outputs": [
    {
     "name": "stdout",
     "output_type": "stream",
     "text": [
      "Wall time: 24.5 s\n"
     ]
    },
    {
     "data": {
      "text/plain": [
       "4749"
      ]
     },
     "execution_count": 17,
     "metadata": {},
     "output_type": "execute_result"
    }
   ],
   "source": [
    "%%time\n",
    "predefined_keywords = {}\n",
    "for paper in articles:\n",
    "    predefined_keywords[str(paper['pubmed_id'])] = get_predefined_keywords(pkwtree,paper['abstract'])\n",
    "    predefined_keywords[str(paper['pubmed_id'])].extend(get_predefined_keywords(pkwtree,paper['title']))\n",
    "    predefined_keywords[str(paper['pubmed_id'])] = list(set(predefined_keywords[str(paper['pubmed_id'])]))\n",
    "len(predefined_keywords)"
   ]
  },
  {
   "cell_type": "code",
   "execution_count": 20,
   "id": "edde8a24",
   "metadata": {
    "scrolled": true
   },
   "outputs": [
    {
     "name": "stdout",
     "output_type": "stream",
     "text": [
      "Wall time: 615 ms\n"
     ]
    },
    {
     "data": {
      "text/plain": [
       "4749"
      ]
     },
     "execution_count": 20,
     "metadata": {},
     "output_type": "execute_result"
    }
   ],
   "source": [
    "%%time\n",
    "mesh_keywrds_extracted = paper_keywords_mesh(articles)\n",
    "expanded_keywords = get_expanded_keywords(mesh_database, mesh_keywrds_extracted)\n",
    "\n",
    "len(expanded_keywords)"
   ]
  },
  {
   "cell_type": "code",
   "execution_count": 22,
   "id": "d7f4ef09",
   "metadata": {
    "scrolled": false
   },
   "outputs": [
    {
     "data": {
      "text/plain": [
       "(4749, 4749, 4749, 4749)"
      ]
     },
     "execution_count": 22,
     "metadata": {},
     "output_type": "execute_result"
    }
   ],
   "source": [
    "len(abstract_keywords),len(related_keywords),len(predefined_keywords),len(expanded_keywords)"
   ]
  },
  {
   "cell_type": "code",
   "execution_count": 23,
   "id": "f0d7d026",
   "metadata": {},
   "outputs": [],
   "source": [
    "extracted_keywords_list  = {}\n",
    "for key in abstract_keywords.keys():\n",
    "    extracted_keywords_list[key] = abstract_keywords[key]\n",
    "    extracted_keywords_list[key].extend(related_keywords[key])\n",
    "    extracted_keywords_list[key].extend(predefined_keywords[key])\n",
    "    extracted_keywords_list[key].extend(expanded_keywords[key]) if key in expanded_keywords else extracted_keywords_list[key].extend([])"
   ]
  },
  {
   "cell_type": "code",
   "execution_count": 24,
   "id": "56781f76",
   "metadata": {},
   "outputs": [],
   "source": [
    "all_keywords = []\n",
    "for key,value in extracted_keywords_list.items():\n",
    "    all_keywords.extend(value)"
   ]
  },
  {
   "cell_type": "code",
   "execution_count": 81,
   "id": "0b874d36",
   "metadata": {
    "scrolled": true
   },
   "outputs": [
    {
     "data": {
      "text/plain": [
       "{'Id': 0.87597388923984,\n",
       " 'taxonomy': 0.8372288902926932,\n",
       " 'Immunology': 0.8368077489997894,\n",
       " 'secretion': 0.8368077489997894,\n",
       " 'systematics': 0.8365971783533376,\n",
       " 'hierarchy': 0.8365971783533376,\n",
       " 'hierarchies': 0.8365971783533376,\n",
       " 'Classification': 0.8365971783533376,\n",
       " 'degradation': 0.8363866077068857,\n",
       " 'catabolism': 0.8363866077068857,\n",
       " 'biochemical pathways': 0.8361760370604338,\n",
       " 'biodegradation': 0.8361760370604338,\n",
       " 'Metabolism': 0.8361760370604338,\n",
       " 'biotransformation': 0.8361760370604338,\n",
       " 'Radiation Effects': 0.8349126131817225,\n",
       " 'chemical properties': 0.833859759949463,\n",
       " 'heredity': 0.833859759949463,\n",
       " 'Genetics': 0.833859759949463,\n",
       " 'chemical composition': 0.833859759949463,\n",
       " 'Chemistry': 0.833859759949463,\n",
       " 'chemical content': 0.833859759949463,\n",
       " 'chemical characterization': 0.833859759949463,\n",
       " 'chemical structure': 0.833859759949463,\n",
       " 'historical aspects': 0.8307012002526848,\n",
       " 'History': 0.8307012002526848,\n",
       " 'historical notes': 0.8307012002526848,\n",
       " 'fees': 0.830280058959781,\n",
       " 'purification': 0.830280058959781,\n",
       " 'finances': 0.830280058959781,\n",
       " 'funding': 0.830280058959781,\n",
       " 'salaries': 0.830280058959781,\n",
       " 'cost': 0.830280058959781,\n",
       " 'financial management': 0.830280058959781,\n",
       " 'financing': 0.830280058959781,\n",
       " 'Economics': 0.830280058959781,\n",
       " 'pharmacologic effects': 0.8288060644346178,\n",
       " 'effect of drugs': 0.8288060644346178,\n",
       " 'Drug Effects': 0.8288060644346178,\n",
       " 'isolation': 0.8281743524952622,\n",
       " 'Ultrastructure': 0.8279637818488103,\n",
       " 'subcellular structure': 0.8279637818488103,\n",
       " 'isolation and purification': 0.8279637818488103,\n",
       " 'submicroscopic anatomy': 0.8279637818488103,\n",
       " 'Isolation & Purification': 0.8279637818488103,\n",
       " 'function': 0.8271214992630027,\n",
       " 'Physiology': 0.8269109286165508,\n",
       " 'Urine': 0.8146978311223415,\n",
       " 'Blood': 0.8144872604758897,\n",
       " 'Cerebrospinal Fluid': 0.8142766898294378,\n",
       " 'urinary aspects': 0.8142766898294378,\n",
       " 'urinary levels': 0.8142766898294378,\n",
       " 'Standards': 0.8113287007791113,\n",
       " 'guidelines': 0.8113287007791113,\n",
       " 'criteria': 0.8113287007791113,\n",
       " 'Adverse Effects': 0.8062750052642662,\n",
       " 'side effects': 0.8062750052642662,\n",
       " 'Analysis': 0.7967993261739313,\n",
       " 'determination': 0.7965887555274794,\n",
       " 'assay': 0.7965887555274794,\n",
       " 'chemical analysis': 0.7965887555274794,\n",
       " 'Toxicity': 0.7949041903558643,\n",
       " 'toxic potential': 0.7949041903558643,\n",
       " 'margin of safety': 0.7949041903558643,\n",
       " 'Poisoning': 0.7940619077700568,\n",
       " 'poisonous effects': 0.7940619077700568,\n",
       " 'Therapeutic Use': 0.793851337123605,\n",
       " 'Administration & Dosage': 0.7934301958307012,\n",
       " 'administration and dosage': 0.7934301958307012,\n",
       " 'Pharmacology': 0.7898504948410192,\n",
       " 'pharmacodynamics': 0.7896399241945673,\n",
       " 'mechanism of action': 0.7896399241945673,\n",
       " 'mode of action': 0.7896399241945673,\n",
       " 'pharmacologic action': 0.7896399241945673,\n",
       " 'enzyme activity': 0.7673194356706675,\n",
       " 'enzymes': 0.7671088650242156,\n",
       " 'Enzymology': 0.7671088650242156,\n",
       " 'Supply & Distribution': 0.7666877237313119,\n",
       " 'supply': 0.7666877237313119,\n",
       " 'distribution': 0.7666877237313119,\n",
       " 'supply and distribution': 0.7666877237313119,\n",
       " 'Biosynthesis': 0.7641608759738893,\n",
       " 'anabolism': 0.7641608759738893,\n",
       " 'bioformation': 0.7641608759738893,\n",
       " 'Pharmacokinetics': 0.7603706043377553,\n",
       " 'tissue distribution': 0.7601600336913035,\n",
       " 'toxicokinetics': 0.7601600336913035,\n",
       " 'Chemical Synthesis': 0.7447883765003158,\n",
       " 'viruses': 0.7359444093493367,\n",
       " 'Virology': 0.7348915561170772,\n",
       " 'antagonists': 0.7298378606022321,\n",
       " 'inhibitors': 0.7298378606022321,\n",
       " 'Antagonists & Inhibitors': 0.7298378606022321,\n",
       " 'antagonists and inhibitors': 0.7298378606022321,\n",
       " 'Agonists': 0.7285744367235207,\n",
       " 'Microbiology': 0.6963571278163824,\n",
       " 'bacteria': 0.6961465571699305,\n",
       " 'fungi': 0.695304274584123,\n",
       " 'development': 0.689618867129922,\n",
       " 'postnatal growth': 0.6894082964834702,\n",
       " 'Growth & Development': 0.6894082964834702,\n",
       " 'growth': 0.6894082964834702,\n",
       " 'growth and development': 0.6894082964834702,\n",
       " 'postnatal development': 0.6894082964834702,\n",
       " 'protozoa': 0.6889871551905664,\n",
       " 'parasites': 0.6887765845441145,\n",
       " 'helminthology': 0.6887765845441145,\n",
       " 'protozoology': 0.6887765845441145,\n",
       " 'Parasitology': 0.6887765845441145,\n",
       " 'Tin': 0.6864603074331438,\n",
       " 'Ethics': 0.6456096020214782,\n",
       " 'ethical aspects': 0.6456096020214782,\n",
       " 'Veterinary': 0.635081069698884,\n",
       " 'histopathology': 0.6262371025479048,\n",
       " 'Pathology': 0.625815961255001,\n",
       " 'cytopathology': 0.625815961255001,\n",
       " 'biopsy': 0.6256053906085491,\n",
       " 'Men': 0.6247631080227416,\n",
       " 'Ions': 0.5999157717414193,\n",
       " 'virulence': 0.5891766687723732,\n",
       " 'infectivity': 0.5877026742472099,\n",
       " 'Pathogenicity': 0.5870709623078543,\n",
       " 'emotional aspects': 0.5752790061065487,\n",
       " 'psychiatric aspects': 0.5752790061065487,\n",
       " 'mental aspects': 0.5752790061065487,\n",
       " 'Psychology': 0.5752790061065487,\n",
       " 'psychosomatic aspects': 0.5752790061065487,\n",
       " 'psychogenic aspects': 0.5752790061065487,\n",
       " 'affective aspects': 0.5752790061065487,\n",
       " 'psychosocial aspects': 0.5752790061065487,\n",
       " 'cognitive aspects': 0.5752790061065487,\n",
       " 'embryonic aspects': 0.5685407454200885,\n",
       " 'fetal development': 0.5685407454200885,\n",
       " 'Embryology': 0.5685407454200885,\n",
       " 'embryonic development': 0.5685407454200885,\n",
       " 'prenatal development': 0.5685407454200885,\n",
       " 'numerical data': 0.5664350389555696,\n",
       " 'utilization': 0.5664350389555696,\n",
       " 'use': 0.5664350389555696,\n",
       " 'statistics and numerical data': 0.5664350389555696,\n",
       " 'Statistics & Numerical Data': 0.5664350389555696,\n",
       " 'preoperative procedures': 0.5297957464729417,\n",
       " 'intraoperative procedures': 0.5297957464729417,\n",
       " 'operative therapy': 0.5297957464729417,\n",
       " 'Surgery': 0.5297957464729417,\n",
       " 'perioperative procedures': 0.5297957464729417,\n",
       " 'operative procedures': 0.5297957464729417,\n",
       " 'invasive procedures': 0.5297957464729417,\n",
       " 'operations': 0.5297957464729417,\n",
       " 'peroperative procedures': 0.5297957464729417,\n",
       " 'Art': 0.5238997683722889,\n",
       " 'TES': 0.5127395241103391,\n",
       " 'futurology': 0.5116866708780796,\n",
       " 'forecasting': 0.5116866708780796,\n",
       " 'Trends': 0.5116866708780796,\n",
       " 'Methods': 0.5043166982522637,\n",
       " 'procedures': 0.5043166982522637,\n",
       " 'techniques': 0.5043166982522637,\n",
       " 'methodology': 0.5043166982522637,\n",
       " 'appliances': 0.5003158559696779,\n",
       " 'equipment': 0.5003158559696779,\n",
       " 'Instrumentation': 0.5003158559696779,\n",
       " 'apparatus': 0.5003158559696779,\n",
       " 'devices': 0.5003158559696779,\n",
       " 'instruments': 0.5003158559696779,\n",
       " 'Mortality': 0.4994735733838703,\n",
       " 'survival': 0.4994735733838703,\n",
       " 'death rate': 0.4994735733838703,\n",
       " 'nursing care': 0.49757843756580333,\n",
       " 'Nursing': 0.49757843756580333,\n",
       " 'home care': 0.49757843756580333,\n",
       " 'cellular morphology': 0.49231417140450623,\n",
       " 'cellular structure': 0.49231417140450623,\n",
       " 'Cytology': 0.49231417140450623,\n",
       " 'cell morphology': 0.49231417140450623,\n",
       " 'cell structure': 0.49231417140450623,\n",
       " 'cellular aspects': 0.49231417140450623,\n",
       " 'Capsid': 0.49189303011160246,\n",
       " 'Deficiency': 0.474415666456096,\n",
       " 'Human': 0.46472941671930934,\n",
       " 'Man, Modern': 0.46430827542640557,\n",
       " 'Homo sapiens': 0.46430827542640557,\n",
       " 'Human Development': 0.46430827542640557,\n",
       " 'Modern Man': 0.46430827542640557,\n",
       " 'Man (Taxonomy)': 0.46430827542640557,\n",
       " 'Diagnostic Imaging': 0.44830490629606234,\n",
       " 'ultrasound': 0.4472520530638029,\n",
       " 'ultrasonography': 0.4472520530638029,\n",
       " 'X-ray': 0.44704148241735103,\n",
       " 'X-ray image': 0.4468309117708991,\n",
       " 'radioisotope scanning': 0.4468309117708991,\n",
       " 'radiography': 0.4468309117708991,\n",
       " 'X-ray diagnosis': 0.4468309117708991,\n",
       " 'ultrasonic diagnosis': 0.4468309117708991,\n",
       " 'echotomography': 0.4468309117708991,\n",
       " 'echography': 0.4468309117708991,\n",
       " 'radionuclide imaging': 0.4468309117708991,\n",
       " 'roentgenography': 0.4468309117708991,\n",
       " 'Physiopathology': 0.441566645609602,\n",
       " 'pathophysiology': 0.441566645609602,\n",
       " 'dysfunction': 0.441566645609602,\n",
       " 'Form': 0.4293535481153927,\n",
       " 'prevention': 0.42766898294377764,\n",
       " 'prevalence': 0.42745841229732573,\n",
       " 'Epidemiology': 0.42724784165087387,\n",
       " 'control': 0.42703727100442196,\n",
       " 'surveillance': 0.4268267003579701,\n",
       " 'Prevention & Control': 0.4266161297115182,\n",
       " 'preventive therapy': 0.4266161297115182,\n",
       " 'prevention and control': 0.4266161297115182,\n",
       " 'preventive measures': 0.4266161297115182,\n",
       " 'prophylaxis': 0.4266161297115182,\n",
       " 'epidemics': 0.42640555906506633,\n",
       " 'pathogenesis': 0.42640555906506633,\n",
       " 'incidence': 0.4261949884186144,\n",
       " 'outbreaks': 0.4261949884186144,\n",
       " 'frequency': 0.4261949884186144,\n",
       " 'morbidity': 0.4261949884186144,\n",
       " 'endemics': 0.4261949884186144,\n",
       " 'occurrence': 0.4261949884186144,\n",
       " 'Etiology': 0.42472099389345125,\n",
       " 'treatment': 0.4245104232469994,\n",
       " 'causality': 0.4242998526005475,\n",
       " 'Therapy': 0.4242998526005475,\n",
       " 'causes': 0.4242998526005475,\n",
       " 'disease management': 0.4238787113076437,\n",
       " 'Chemically Induced': 0.41671930932827966,\n",
       " 'screening': 0.4144030322173089,\n",
       " 'Diagnosis': 0.4144030322173089,\n",
       " 'culture': 0.41377132027795327,\n",
       " 'ethnicity': 0.41377132027795327,\n",
       " 'Ethnology': 0.41377132027795327,\n",
       " 'symptoms': 0.4127184670456938,\n",
       " 'signs': 0.4127184670456938,\n",
       " 'findings': 0.4127184670456938,\n",
       " 'Drug Therapy': 0.4120867551063382,\n",
       " 'chemotherapy': 0.4120867551063382,\n",
       " 'pharmacotherapy': 0.4120867551063382,\n",
       " 'pharmacologic therapy': 0.4120867551063382,\n",
       " 'Diet Therapy': 0.4116656138134344,\n",
       " 'dietary management': 0.4116656138134344,\n",
       " 'nutritional management': 0.4116656138134344,\n",
       " 'Radiotherapy': 0.41103390187407873,\n",
       " 'radiation therapy': 0.41103390187407873,\n",
       " 'X-ray therapy': 0.41103390187407873,\n",
       " 'radioisotope therapy': 0.41103390187407873,\n",
       " 'morphology': 0.39650452726889873,\n",
       " 'Anatomy & Histology': 0.3962939566224468,\n",
       " 'anatomy': 0.3962939566224468,\n",
       " 'anatomy and histology': 0.3962939566224468,\n",
       " 'histology': 0.3962939566224468,\n",
       " 'associated disease': 0.3943988208043799,\n",
       " 'coexistent conditions': 0.3943988208043799,\n",
       " 'associated conditions': 0.3943988208043799,\n",
       " 'sequels': 0.3943988208043799,\n",
       " 'concomitant disease': 0.3943988208043799,\n",
       " 'concomitant conditions': 0.3943988208043799,\n",
       " 'Complications': 0.3943988208043799,\n",
       " 'coexistent disease': 0.3943988208043799,\n",
       " 'sequelae': 0.3943988208043799,\n",
       " 'Animalia': 0.3885028427037271,\n",
       " 'Animal': 0.3885028427037271,\n",
       " 'Metazoa': 0.3885028427037271,\n",
       " 'Rehabilitation': 0.38829227205727523,\n",
       " 'connatal': 0.3845020004211413,\n",
       " 'Congenital': 0.3845020004211413,\n",
       " 'Ear': 0.36576121288692354,\n",
       " 'defects': 0.33733417561591916,\n",
       " 'aplasia': 0.33712360496946725,\n",
       " 'deformities': 0.33712360496946725,\n",
       " 'atresia': 0.33712360496946725,\n",
       " 'malformations': 0.33712360496946725,\n",
       " 'agenesis': 0.33712360496946725,\n",
       " 'congenital defects': 0.33712360496946725,\n",
       " 'Abnormalities': 0.33712360496946725,\n",
       " 'hypoplasia': 0.33712360496946725,\n",
       " 'anomalies': 0.33712360496946725,\n",
       " 'birth defects': 0.33712360496946725,\n",
       " 'trauma': 0.33417561591914086,\n",
       " 'Injuries': 0.33417561591914086,\n",
       " 'wounds': 0.33417561591914086,\n",
       " 'grafting': 0.3299642029901032,\n",
       " 'Transplantation': 0.3297536323436513,\n",
       " 'grafts': 0.3297536323436513,\n",
       " 'GAT': 0.31543482838492315,\n",
       " 'Proteins': 0.30195830701200255,\n",
       " 'protein a': 0.3015371657190988,\n",
       " 'Transmission': 0.2929037692145715,\n",
       " 'Cells': 0.28490208464939987,\n",
       " 'legislation and jurisprudence': 0.2777426826700358,\n",
       " 'government regulations': 0.2777426826700358,\n",
       " 'litigation': 0.2777426826700358,\n",
       " 'statutes': 0.2777426826700358,\n",
       " 'jurisprudence': 0.2777426826700358,\n",
       " 'civil suits': 0.2777426826700358,\n",
       " 'lawsuits': 0.2777426826700358,\n",
       " 'Legislation & Jurisprudence': 0.2777426826700358,\n",
       " 'legal aspects': 0.2777426826700358,\n",
       " 'juridical aspects': 0.2777426826700358,\n",
       " 'judicial aspects': 0.2777426826700358,\n",
       " 'regulations': 0.2777426826700358,\n",
       " 'medicolegal aspects': 0.2777426826700358,\n",
       " 'ordinances': 0.2777426826700358,\n",
       " 'court decisions': 0.2777426826700358,\n",
       " 'laws': 0.2777426826700358,\n",
       " 'Viruses': 0.2655295851758265,\n",
       " 'RNA': 0.2541587702674247,\n",
       " 'vaccin': 0.24426194988418615,\n",
       " 'Pons': 0.23183828174352494,\n",
       " 'Disease': 0.22804801010739104,\n",
       " 'Ice': 0.21351863550221098,\n",
       " 'Chara': 0.2010949673615498,\n",
       " 'Character': 0.2010949673615498,\n",
       " 'Immunologic Factors': 0.19351442408928196,\n",
       " 'V Proteins, Viral': 0.191619288271215,\n",
       " 'UL38 protein, HHV-5': 0.191619288271215,\n",
       " 'Viral Coat Proteins': 0.191619288271215,\n",
       " 'Capsid Protein': 0.191619288271215,\n",
       " 'Procapsid Proteins': 0.191619288271215,\n",
       " 'Viral Outer Coat Protein': 0.191619288271215,\n",
       " 'UL38 protein, human herpesvirus-5': 0.191619288271215,\n",
       " 'Viral Coat Protein': 0.191619288271215,\n",
       " 'V Antigens, Viral': 0.191619288271215,\n",
       " 'Coat Protein, Viral': 0.191619288271215,\n",
       " 'Antigens, Viral V': 0.191619288271215,\n",
       " 'Procapsid Protein': 0.191619288271215,\n",
       " 'Viral V Antigens': 0.191619288271215,\n",
       " 'Viral V Proteins': 0.191619288271215,\n",
       " 'Logic': 0.1901452937460518,\n",
       " 'analysis': 0.18551273952411035,\n",
       " 'Role': 0.18298589176668772,\n",
       " 'Face': 0.17203621815118972,\n",
       " 'Antibodies': 0.17161507685828595,\n",
       " 'Females': 0.17161507685828595,\n",
       " 'DNA': 0.16192882712149925,\n",
       " 'Ants': 0.15266371867761633,\n",
       " 'Analogs & Derivatives': 0.15224257738471256,\n",
       " 'analogs and derivatives': 0.15224257738471256,\n",
       " 'derivatives': 0.15224257738471256,\n",
       " 'Rain': 0.15161086544535693,\n",
       " 'Genome': 0.14508317540534849,\n",
       " 'Vaccines': 0.1425563276479259,\n",
       " 'Mouse': 0.1410823331227627,\n",
       " 'Mus musculus': 0.1408717624763108,\n",
       " 'Mice, House': 0.1408717624763108,\n",
       " 'Mus musculus domesticus': 0.1408717624763108,\n",
       " 'Laboratory Mouse': 0.1408717624763108,\n",
       " 'Mice, Laboratory': 0.1408717624763108,\n",
       " 'Mouse, Swiss': 0.1408717624763108,\n",
       " 'Mouse, Laboratory': 0.1408717624763108,\n",
       " 'Mus': 0.1408717624763108,\n",
       " 'Mouse, House': 0.1408717624763108,\n",
       " 'Swiss Mice': 0.1408717624763108,\n",
       " 'Swiss Mouse': 0.1408717624763108,\n",
       " 'House Mice': 0.1408717624763108,\n",
       " 'Laboratory Mice': 0.1408717624763108,\n",
       " 'Mice, Swiss': 0.1408717624763108,\n",
       " 'Mus domesticus': 0.1408717624763108,\n",
       " 'domesticus, Mus musculus': 0.1408717624763108,\n",
       " 'House Mouse': 0.1408717624763108,\n",
       " 'Genes': 0.1396083385975995,\n",
       " 'Time': 0.13602863760791745,\n",
       " 'Mice': 0.12950094756790903,\n",
       " 'Rest': 0.125921246578227,\n",
       " 'Ether': 0.12213097494209307,\n",
       " 'vasculature': 0.11876184459886292,\n",
       " 'Blood Supply': 0.11876184459886292,\n",
       " 'microvasculature': 0.11876184459886292,\n",
       " 'Liver': 0.11855127395241104,\n",
       " 'Tics': 0.11813013265950727,\n",
       " 'Cations': 0.11665613813434407,\n",
       " 'Rape': 0.114971572962729,\n",
       " 'Lead': 0.10991787744788377,\n",
       " 'ImProv': 0.10928616550852811,\n",
       " 'Rome': 0.10633817645820173,\n",
       " 'Respect': 0.10549589387239419,\n",
       " 'nas': 0.10339018740787534,\n",
       " 'training': 0.1025479048220678,\n",
       " 'Education': 0.10233733417561591,\n",
       " 'teaching': 0.10233733417561591,\n",
       " 'curriculum': 0.10233733417561591,\n",
       " 'Work': 0.10107391029690461,\n",
       " 'mica': 0.10065276900400084}"
      ]
     },
     "execution_count": 81,
     "metadata": {},
     "output_type": "execute_result"
    }
   ],
   "source": [
    "from collections import Counter\n",
    "freq_keywords  = Counter(all_keywords)\n",
    "ranked_keywords = dict(sorted(freq_keywords.items(), key=lambda item: item[1],reverse=True))\n",
    "\n",
    "keywords_scores = {}\n",
    "for key,value in ranked_keywords.items():\n",
    "    if value/len(abstract_keywords) > 0.10:\n",
    "        keywords_scores[key] = value/len(abstract_keywords)\n",
    "    \n",
    "keywords_scores"
   ]
  },
  {
   "cell_type": "code",
   "execution_count": 82,
   "id": "6e968576",
   "metadata": {},
   "outputs": [
    {
     "data": {
      "text/plain": [
       "382"
      ]
     },
     "execution_count": 82,
     "metadata": {},
     "output_type": "execute_result"
    }
   ],
   "source": [
    "len(keywords_scores)"
   ]
  },
  {
   "cell_type": "code",
   "execution_count": 315,
   "id": "d8a3c637",
   "metadata": {},
   "outputs": [],
   "source": [
    "# import matplotlib.pyplot as plt\n",
    "# from wordcloud import WordCloud, STOPWORDS\n",
    "# comment_words = ' '\n",
    "# stopwords = set(STOPWORDS) \n",
    "# wc = WordCloud(background_color=\"white\",stopwords=stopwords, contour_width=10, contour_color='steelblue')\n",
    "# wordcloud = wc.generate(\" \".join(matches))\n",
    "\n",
    "# # Display the generated image:\n",
    "# plt.figure(figsize=(18,10))\n",
    "# plt.imshow(wordcloud, interpolation='bilinear')\n",
    "# plt.axis(\"off\")"
   ]
  }
 ],
 "metadata": {
  "kernelspec": {
   "display_name": "Python 3",
   "language": "python",
   "name": "python3"
  },
  "language_info": {
   "codemirror_mode": {
    "name": "ipython",
    "version": 3
   },
   "file_extension": ".py",
   "mimetype": "text/x-python",
   "name": "python",
   "nbconvert_exporter": "python",
   "pygments_lexer": "ipython3",
   "version": "3.8.8"
  }
 },
 "nbformat": 4,
 "nbformat_minor": 5
}
