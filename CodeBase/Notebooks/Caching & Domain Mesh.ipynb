{
 "cells": [
  {
   "cell_type": "markdown",
   "id": "b2f3ac87",
   "metadata": {},
   "source": [
    "# Create Domain MeSH"
   ]
  },
  {
   "cell_type": "code",
   "execution_count": 1,
   "id": "8fff0cb9",
   "metadata": {},
   "outputs": [],
   "source": [
    "def get_keywords_mesh(mesh):\n",
    "    mesh_kewords_related = []\n",
    "    for m in mesh:\n",
    "        if 'DescriptorName' in m:\n",
    "            mesh_kewords_related.append([str(m['DescriptorName']),m['DescriptorName'].attributes['UI']])\n",
    "    return mesh_kewords_related\n",
    "\n",
    "def get_authors(authors_list):\n",
    "    authors = []\n",
    "    for authr in authors_list:\n",
    "        authors.append({\n",
    "        'lastname': authr['LastName'] if 'LastName' in authr else None,\n",
    "        'firstname': authr['ForeName'] if 'ForeName' in authr else None,\n",
    "        'initials': authr['Initials'] if 'Initials' in authr else None,\n",
    "        'affiliation': authr['AffiliationInfo'][0]['Affiliation'] if 'AffiliationInfo' in authr and 'Affiliation' in authr['AffiliationInfo'] else None,\n",
    "        })\n",
    "    return authors\n",
    "\n",
    "def get_conclusion(abstract_texts):\n",
    "    res = {}\n",
    "    for text in abstract_texts:\n",
    "        if 'Label' in text.attributes:\n",
    "            if text.attributes['Label'] == \"CONCLUSIONS\":\n",
    "                res = str(text)\n",
    "    if type(res) == dict:\n",
    "        res = None\n",
    "    return res\n",
    "\n",
    "def get_results(abstract_texts):\n",
    "    res = {}\n",
    "    for text in abstract_texts:\n",
    "        if 'Label' in text.attributes:\n",
    "            if text.attributes['Label'] == \"RESULTS\":\n",
    "                res = str(text)\n",
    "    if type(res) == dict:\n",
    "        res = None\n",
    "    return res\n",
    "\n",
    "def get_methods(abstract_texts):\n",
    "    res = {}\n",
    "    for text in abstract_texts:\n",
    "        if 'Label' in text.attributes:\n",
    "            if text.attributes['Label'] == \"METHODS\":\n",
    "                res = str(text)\n",
    "\n",
    "    if type(res) == dict:\n",
    "        res = None\n",
    "    return res\n",
    "\n",
    "def pubMedSearcherBio(query,max_count):\n",
    "    import datetime\n",
    "    \n",
    "   \n",
    "    Entrez.email = 'myemail@ccc.com'\n",
    "\n",
    "    handle = Entrez.esearch(db='pubmed',\n",
    "                           retmode='xml',\n",
    "                           term = query,\n",
    "                           datetype='pdat',\n",
    "                           retmax = max_count,\n",
    "                           mindate='2010',\n",
    "                           maxdate='2020')\n",
    "    results = Entrez.read(handle)\n",
    "\n",
    "    ids = ','.join(results['IdList'])\n",
    "\n",
    "    handle = Entrez.efetch(db='pubmed',\n",
    "                           retmode='xml',\n",
    "                           sort = 'date',\n",
    "                           id=ids)\n",
    "\n",
    "    papers = Entrez.read(handle)\n",
    "    \n",
    "    articleInfo = []\n",
    "    if 'PubmedArticle' in papers and len(papers['PubmedArticle'])>0:\n",
    "        for paper in papers['PubmedArticle']:\n",
    "            articleInfo.append({\n",
    "                    u'pubmed_id':str(paper['MedlineCitation']['PMID']),\n",
    "                    u'title':str(paper['MedlineCitation']['Article']['ArticleTitle']) if 'Article' in paper['MedlineCitation'] and 'ArticleTitle' in paper['MedlineCitation']['Article'] else None,\n",
    "                    u'keywords':[str(word) for word in paper['MedlineCitation']['KeywordList'][0]] if 'KeywordList' in paper['MedlineCitation'] and len(paper['MedlineCitation']['KeywordList'])>0 else [],\n",
    "                    u'journal':str(paper['MedlineCitation']['Article']['Journal']['Title']) if 'Article' in paper['MedlineCitation'] and 'Journal' in paper['MedlineCitation']['Article'] and 'Title' in paper['MedlineCitation']['Article']['Journal'] else None,\n",
    "                    u'abstract':str(paper['MedlineCitation']['Article']['Abstract']['AbstractText'][0]) if 'Article' in paper['MedlineCitation'] and 'Abstract' in paper['MedlineCitation']['Article'] and 'AbstractText' in paper['MedlineCitation']['Article']['Abstract'] and len(paper['MedlineCitation']['Article']['Abstract']['AbstractText']) > 0 else None,\n",
    "                    u'conclusions':get_conclusion(paper['MedlineCitation']['Article']['Abstract']['AbstractText']) if 'Article' in paper['MedlineCitation'] and 'Abstract' in paper['MedlineCitation']['Article'] and 'AbstractText' in paper['MedlineCitation']['Article']['Abstract'] else None,\n",
    "                    u'methods':get_methods(paper['MedlineCitation']['Article']['Abstract']['AbstractText']) if 'Article' in paper['MedlineCitation'] and 'Abstract' in paper['MedlineCitation']['Article'] and 'AbstractText' in paper['MedlineCitation']['Article']['Abstract'] else None,\n",
    "                    u'results': get_results(paper['MedlineCitation']['Article']['Abstract']['AbstractText']) if 'Article' in paper['MedlineCitation'] and 'Abstract' in paper['MedlineCitation']['Article'] and 'AbstractText' in paper['MedlineCitation']['Article']['Abstract'] else None,\n",
    "                    u'copyrights':str(paper['MedlineCitation']['Article']['Abstract']['CopyrightInformation']) if 'Article' in paper['MedlineCitation'] and 'Abstract' in paper['MedlineCitation']['Article'] and 'CopyrightInformation' in paper['MedlineCitation']['Article']['Abstract'] else None,\n",
    "                    u'doi':str(paper['MedlineCitation']['Article']['ELocationID'][0]) if 'Article' in paper['MedlineCitation'] and 'ELocationID' in paper['MedlineCitation']['Article'] and len(paper['MedlineCitation']['Article']['ELocationID'])>0 else None,\n",
    "                    u'publication_date':datetime.datetime.strptime(f\"{paper['MedlineCitation']['Article']['ArticleDate'][0]['Year']}-{paper['MedlineCitation']['Article']['ArticleDate'][0]['Month']}-{paper['MedlineCitation']['Article']['ArticleDate'][0]['Day']}\",\"%Y-%M-%d\").date() if 'Article' in paper['MedlineCitation'] and 'ArticleDate' in paper['MedlineCitation']['Article'] and len(paper['MedlineCitation']['Article']['ArticleDate'])>0 else None,\n",
    "                    u'authors':get_authors(paper['MedlineCitation']['Article']['AuthorList']) if 'Article' in paper['MedlineCitation'] and 'AuthorList' in paper['MedlineCitation']['Article'] else [],\n",
    "                    u'mesh_terms':get_keywords_mesh(paper['MedlineCitation']['MeshHeadingList']) if 'MeshHeadingList' in paper['MedlineCitation'] else []\n",
    "            })\n",
    "\n",
    "#     # Generate Pandas DataFrame from list of dictionaries\n",
    "#     articlesPD = pd.DataFrame.from_dict(articleInfo)\n",
    "#     export_csv = df.to_csv (r'C:\\Users\\YourUsernam\\Desktop\\export_dataframe.csv', index = None, header=True) \n",
    "\n",
    "#     #Print first 10 rows of dataframe\n",
    "#     print(articlesPD.head(10))\n",
    "    return articleInfo"
   ]
  },
  {
   "cell_type": "code",
   "execution_count": 2,
   "id": "acaaa49f",
   "metadata": {},
   "outputs": [],
   "source": [
    "import pandas as pd\n",
    "File = 'master keywords list.csv'\n",
    "keywords = pd.read_csv(File,names =['keyword'])['keyword'].to_list()"
   ]
  },
  {
   "cell_type": "code",
   "execution_count": 3,
   "id": "90c4868a",
   "metadata": {
    "scrolled": true
   },
   "outputs": [
    {
     "data": {
      "text/plain": [
       "49"
      ]
     },
     "execution_count": 3,
     "metadata": {},
     "output_type": "execute_result"
    }
   ],
   "source": [
    "len(keywords)"
   ]
  },
  {
   "cell_type": "code",
   "execution_count": 4,
   "id": "752c87b4",
   "metadata": {},
   "outputs": [],
   "source": [
    "def get_revelant_mesh(mesh_kewords_related):\n",
    "    from collections import Counter\n",
    "    all_mesh_words = []\n",
    "    for mesh in mesh_kewords_related:\n",
    "        all_mesh_words.append(mesh[0])\n",
    "    return list(dict(sorted(Counter(all_mesh_words).items(), key=lambda item: item[1],reverse=True)).keys())[:50]"
   ]
  },
  {
   "cell_type": "code",
   "execution_count": 5,
   "id": "54f4feee",
   "metadata": {},
   "outputs": [],
   "source": [
    "def related_keywords_mesh(papers):\n",
    "    mesh_kewords_related = []\n",
    "    for paper in papers:\n",
    "        mesh_kewords_related.extend(paper['mesh_terms'])\n",
    "    mesh_kewords_related = get_revelant_mesh(mesh_kewords_related)\n",
    "    return mesh_kewords_related"
   ]
  },
  {
   "cell_type": "code",
   "execution_count": null,
   "id": "e128fa36",
   "metadata": {
    "scrolled": false
   },
   "outputs": [
    {
     "data": {
      "application/vnd.jupyter.widget-view+json": {
       "model_id": "1aaeede43dee4fecb10c5a8e104182a9",
       "version_major": 2,
       "version_minor": 0
      },
      "text/plain": [
       "  0%|          | 0/49 [00:00<?, ?it/s]"
      ]
     },
     "metadata": {},
     "output_type": "display_data"
    },
    {
     "name": "stdout",
     "output_type": "stream",
     "text": [
      "[WinError 10054] An existing connection was forcibly closed by the remote host\n",
      "Protein A\n"
     ]
    }
   ],
   "source": [
    "import json\n",
    "from Bio import Entrez\n",
    "from tqdm.notebook import tqdm\n",
    "import time\n",
    "domain_mesh = {}\n",
    "for key in tqdm(keywords):\n",
    "    try:\n",
    "        papers  = pubMedSearcherBio(f\"{key}\",10000)\n",
    "        mesh_extracted = related_keywords_mesh(papers)\n",
    "        domain_mesh[key] = mesh_extracted\n",
    "        time.sleep(20)\n",
    "    except Exception as e:\n",
    "        print(str(e))\n",
    "        print(key)\n",
    "        domain_mesh[key] = []"
   ]
  },
  {
   "cell_type": "code",
   "execution_count": 7,
   "id": "3785aa4d",
   "metadata": {},
   "outputs": [],
   "source": [
    "import json\n",
    "with open('domain_mesh.json','r') as f:\n",
    "    domain_mesh = json.load(f)"
   ]
  },
  {
   "cell_type": "code",
   "execution_count": 58,
   "id": "0f27d1cd",
   "metadata": {},
   "outputs": [],
   "source": [
    "domain_mesh"
   ]
  },
  {
   "cell_type": "markdown",
   "id": "1477f59f",
   "metadata": {},
   "source": [
    "# Add Labelled Data to Domain Terms"
   ]
  },
  {
   "cell_type": "code",
   "execution_count": 59,
   "id": "3802b2c9",
   "metadata": {},
   "outputs": [
    {
     "data": {
      "text/html": [
       "<div>\n",
       "<style scoped>\n",
       "    .dataframe tbody tr th:only-of-type {\n",
       "        vertical-align: middle;\n",
       "    }\n",
       "\n",
       "    .dataframe tbody tr th {\n",
       "        vertical-align: top;\n",
       "    }\n",
       "\n",
       "    .dataframe thead th {\n",
       "        text-align: right;\n",
       "    }\n",
       "</style>\n",
       "<table border=\"1\" class=\"dataframe\">\n",
       "  <thead>\n",
       "    <tr style=\"text-align: right;\">\n",
       "      <th></th>\n",
       "      <th>Keywords (separated by ;)</th>\n",
       "      <th>doi</th>\n",
       "    </tr>\n",
       "  </thead>\n",
       "  <tbody>\n",
       "    <tr>\n",
       "      <th>0</th>\n",
       "      <td>affinity</td>\n",
       "      <td>10.1002/biot.201600357</td>\n",
       "    </tr>\n",
       "    <tr>\n",
       "      <th>1</th>\n",
       "      <td>affinity;intein</td>\n",
       "      <td>10.2174/1389203720666190208110416</td>\n",
       "    </tr>\n",
       "    <tr>\n",
       "      <th>2</th>\n",
       "      <td>affinity;Protein A</td>\n",
       "      <td>10.3390/ma9120994</td>\n",
       "    </tr>\n",
       "    <tr>\n",
       "      <th>3</th>\n",
       "      <td>affinity;Protein A;electrophoresis</td>\n",
       "      <td>10.1371/journal.pone.0139137</td>\n",
       "    </tr>\n",
       "    <tr>\n",
       "      <th>4</th>\n",
       "      <td>affinity;Protein A;Protein L</td>\n",
       "      <td>10.1080/19420862.2019.1662690</td>\n",
       "    </tr>\n",
       "    <tr>\n",
       "      <th>5</th>\n",
       "      <td>affinity;VHH</td>\n",
       "      <td>10.1128/aem.02595-14</td>\n",
       "    </tr>\n",
       "    <tr>\n",
       "      <th>6</th>\n",
       "      <td>bioconjugation;5MP</td>\n",
       "      <td>10.1021/jacs.7b00670</td>\n",
       "    </tr>\n",
       "    <tr>\n",
       "      <th>7</th>\n",
       "      <td>ELP</td>\n",
       "      <td>10.3389/fbioe.2019.00233</td>\n",
       "    </tr>\n",
       "    <tr>\n",
       "      <th>8</th>\n",
       "      <td>ELP</td>\n",
       "      <td>10.1016/j.jconrel.2014.06.028</td>\n",
       "    </tr>\n",
       "    <tr>\n",
       "      <th>9</th>\n",
       "      <td>ELP</td>\n",
       "      <td>10.1016/j.ab.2011.04.034</td>\n",
       "    </tr>\n",
       "    <tr>\n",
       "      <th>10</th>\n",
       "      <td>ELP</td>\n",
       "      <td>10.1002/0471140864.ps0611s61</td>\n",
       "    </tr>\n",
       "    <tr>\n",
       "      <th>11</th>\n",
       "      <td>ELP</td>\n",
       "      <td>10.1016/j.jconrel.2015.11.010</td>\n",
       "    </tr>\n",
       "    <tr>\n",
       "      <th>12</th>\n",
       "      <td>ELP</td>\n",
       "      <td>10.1021/bm400167h</td>\n",
       "    </tr>\n",
       "    <tr>\n",
       "      <th>13</th>\n",
       "      <td>membrane</td>\n",
       "      <td>10.1073/pnas.2000223117</td>\n",
       "    </tr>\n",
       "    <tr>\n",
       "      <th>14</th>\n",
       "      <td>membrane</td>\n",
       "      <td>10.1016/j.jmb.2018.06.038</td>\n",
       "    </tr>\n",
       "    <tr>\n",
       "      <th>15</th>\n",
       "      <td>membrane;Protein L</td>\n",
       "      <td>10.1038/s41467-018-05403-1</td>\n",
       "    </tr>\n",
       "    <tr>\n",
       "      <th>16</th>\n",
       "      <td>Protein A</td>\n",
       "      <td>10.1371/journal.pone.0025282</td>\n",
       "    </tr>\n",
       "    <tr>\n",
       "      <th>17</th>\n",
       "      <td>Protein A</td>\n",
       "      <td>10.1080/19420862.2019.1565749</td>\n",
       "    </tr>\n",
       "  </tbody>\n",
       "</table>\n",
       "</div>"
      ],
      "text/plain": [
       "             Keywords (separated by ;)                                doi\n",
       "0                             affinity             10.1002/biot.201600357\n",
       "1                      affinity;intein  10.2174/1389203720666190208110416\n",
       "2                   affinity;Protein A                  10.3390/ma9120994\n",
       "3   affinity;Protein A;electrophoresis       10.1371/journal.pone.0139137\n",
       "4         affinity;Protein A;Protein L      10.1080/19420862.2019.1662690\n",
       "5                         affinity;VHH               10.1128/aem.02595-14\n",
       "6                   bioconjugation;5MP               10.1021/jacs.7b00670\n",
       "7                                  ELP           10.3389/fbioe.2019.00233\n",
       "8                                  ELP      10.1016/j.jconrel.2014.06.028\n",
       "9                                  ELP           10.1016/j.ab.2011.04.034\n",
       "10                                 ELP       10.1002/0471140864.ps0611s61\n",
       "11                                 ELP      10.1016/j.jconrel.2015.11.010\n",
       "12                                 ELP                  10.1021/bm400167h\n",
       "13                            membrane            10.1073/pnas.2000223117\n",
       "14                            membrane          10.1016/j.jmb.2018.06.038\n",
       "15                  membrane;Protein L         10.1038/s41467-018-05403-1\n",
       "16                           Protein A       10.1371/journal.pone.0025282\n",
       "17                           Protein A      10.1080/19420862.2019.1565749"
      ]
     },
     "execution_count": 59,
     "metadata": {},
     "output_type": "execute_result"
    }
   ],
   "source": [
    "import pandas as pd\n",
    "File = 'train.csv'\n",
    "df_train = pd.read_csv(File)\n",
    "df_train = df_train[['Keywords (separated by ;)','doi']]\n",
    "df_train"
   ]
  },
  {
   "cell_type": "code",
   "execution_count": 60,
   "id": "61e7f06b",
   "metadata": {},
   "outputs": [],
   "source": [
    "train_dataset = {}\n",
    "for ind,row in df_train.iterrows():\n",
    "    for key in row['Keywords (separated by ;)'].split(';'):\n",
    "        if key in train_dataset:\n",
    "            train_dataset[key].append(row['doi'])\n",
    "        else:\n",
    "            train_dataset[key] =[row['doi']]"
   ]
  },
  {
   "cell_type": "code",
   "execution_count": 61,
   "id": "4083242e",
   "metadata": {},
   "outputs": [
    {
     "data": {
      "text/plain": [
       "{'affinity': ['10.1002/biot.201600357',\n",
       "  '10.2174/1389203720666190208110416',\n",
       "  '10.3390/ma9120994',\n",
       "  '10.1371/journal.pone.0139137',\n",
       "  '10.1080/19420862.2019.1662690',\n",
       "  '10.1128/aem.02595-14'],\n",
       " 'intein': ['10.2174/1389203720666190208110416'],\n",
       " 'Protein A': ['10.3390/ma9120994',\n",
       "  '10.1371/journal.pone.0139137',\n",
       "  '10.1080/19420862.2019.1662690',\n",
       "  '10.1371/journal.pone.0025282',\n",
       "  '10.1080/19420862.2019.1565749'],\n",
       " 'electrophoresis': ['10.1371/journal.pone.0139137'],\n",
       " 'Protein L': ['10.1080/19420862.2019.1662690', '10.1038/s41467-018-05403-1'],\n",
       " 'VHH': ['10.1128/aem.02595-14'],\n",
       " 'bioconjugation': ['10.1021/jacs.7b00670'],\n",
       " '5MP': ['10.1021/jacs.7b00670'],\n",
       " 'ELP': ['10.3389/fbioe.2019.00233',\n",
       "  '10.1016/j.jconrel.2014.06.028',\n",
       "  '10.1016/j.ab.2011.04.034',\n",
       "  '10.1002/0471140864.ps0611s61',\n",
       "  '10.1016/j.jconrel.2015.11.010',\n",
       "  '10.1021/bm400167h'],\n",
       " 'membrane': ['10.1073/pnas.2000223117',\n",
       "  '10.1016/j.jmb.2018.06.038',\n",
       "  '10.1038/s41467-018-05403-1']}"
      ]
     },
     "execution_count": 61,
     "metadata": {},
     "output_type": "execute_result"
    }
   ],
   "source": [
    "train_dataset"
   ]
  },
  {
   "cell_type": "code",
   "execution_count": 55,
   "id": "14c5828e",
   "metadata": {},
   "outputs": [],
   "source": [
    "def keywords_mesh(papers):\n",
    "    mesh_kewords_related = []\n",
    "    for paper in papers:\n",
    "        mesh_kewords_related.extend(paper['mesh_terms'])\n",
    "    \n",
    "    all_mesh_words = []\n",
    "    for mesh in mesh_kewords_related:\n",
    "        all_mesh_words.append(mesh[0])\n",
    "        \n",
    "    return all_mesh_words"
   ]
  },
  {
   "cell_type": "code",
   "execution_count": 56,
   "id": "e9ec181c",
   "metadata": {},
   "outputs": [],
   "source": [
    "def get_train_mesh(train_dataset):\n",
    "    train_mesh = {}\n",
    "    for key,values in train_dataset.items():\n",
    "        train_mesh[key] = []\n",
    "        for value in values:\n",
    "            papers  = pubMedSearcherBio(f\"{value}\",1)\n",
    "            mesh_extracted = keywords_mesh(papers)\n",
    "            train_mesh[key].extend(mesh_extracted)\n",
    "        train_mesh[key] = list(set(train_mesh[key]))\n",
    "    return train_mesh"
   ]
  },
  {
   "cell_type": "code",
   "execution_count": 63,
   "id": "c07860f3",
   "metadata": {},
   "outputs": [],
   "source": [
    "train_mesh = get_train_mesh(train_dataset)"
   ]
  },
  {
   "cell_type": "code",
   "execution_count": null,
   "id": "8b86f821",
   "metadata": {},
   "outputs": [],
   "source": [
    "train_mesh"
   ]
  },
  {
   "cell_type": "code",
   "execution_count": null,
   "id": "704d08f6",
   "metadata": {},
   "outputs": [],
   "source": [
    "# replace or add train mesh into domain terms \n",
    "for key,value in train_mesh.items():\n",
    "    for val in value:\n",
    "        if val not in domain_mesh:\n",
    "            domain_mesh[key].append(val)"
   ]
  },
  {
   "cell_type": "code",
   "execution_count": 62,
   "id": "f4127081",
   "metadata": {},
   "outputs": [],
   "source": [
    "# save domain mesh\n",
    "with open('domain_mesh.json','w') as f:\n",
    "    json.dump(domain_mesh,f)"
   ]
  },
  {
   "cell_type": "markdown",
   "id": "c693c6e6",
   "metadata": {},
   "source": [
    "# Cache articles based on keywords and extracted MeSH "
   ]
  },
  {
   "cell_type": "code",
   "execution_count": 14,
   "id": "eb52b481",
   "metadata": {},
   "outputs": [],
   "source": [
    "from tqdm.notebook import tqdm\n",
    "\n",
    "def extract_articles_cache(search_term,domain_mesh):        \n",
    "    docs = []\n",
    "    \n",
    "    try:\n",
    "        papers  = pubMedSearcherBio(f\"{search_term}\",1500)\n",
    "        docs.extend(papers)\n",
    "    except Exception as e:\n",
    "        print(str(e))\n",
    "        print(\"Error :\",search_term)\n",
    "\n",
    "    for key in tqdm(domain_mesh[search_term]):\n",
    "        try:\n",
    "            papers  = pubMedSearcherBio(f\"{search_term} AND {key}\",50)\n",
    "            docs.extend(papers)\n",
    "        except Exception as e:\n",
    "            print(str(e))\n",
    "            print(\"Error :\",f\"{search_term} AND {key}\")\n",
    "    \n",
    "    return docs"
   ]
  },
  {
   "cell_type": "code",
   "execution_count": 20,
   "id": "540c38bc",
   "metadata": {},
   "outputs": [],
   "source": [
    "cache_articles = {}"
   ]
  },
  {
   "cell_type": "code",
   "execution_count": 21,
   "id": "916cfe59",
   "metadata": {
    "scrolled": true
   },
   "outputs": [
    {
     "data": {
      "application/vnd.jupyter.widget-view+json": {
       "model_id": "0e6c21a80c4545908a928433b08aea26",
       "version_major": 2,
       "version_minor": 0
      },
      "text/plain": [
       "  0%|          | 0/89 [00:00<?, ?it/s]"
      ]
     },
     "metadata": {},
     "output_type": "display_data"
    },
    {
     "data": {
      "application/vnd.jupyter.widget-view+json": {
       "model_id": "4ab114bea37243628969d8f55ae524a8",
       "version_major": 2,
       "version_minor": 0
      },
      "text/plain": [
       "  0%|          | 0/90 [00:00<?, ?it/s]"
      ]
     },
     "metadata": {},
     "output_type": "display_data"
    },
    {
     "name": "stdout",
     "output_type": "stream",
     "text": [
      "[WinError 10054] An existing connection was forcibly closed by the remote host\n",
      "Error : membrane AND Cells, Cultured\n",
      "[WinError 10053] An established connection was aborted by the software in your host machine\n",
      "Error : membrane AND SARS-CoV-2\n"
     ]
    },
    {
     "data": {
      "application/vnd.jupyter.widget-view+json": {
       "model_id": "0fafd6e8d7014843a775b2475488b619",
       "version_major": 2,
       "version_minor": 0
      },
      "text/plain": [
       "  0%|          | 0/50 [00:00<?, ?it/s]"
      ]
     },
     "metadata": {},
     "output_type": "display_data"
    },
    {
     "data": {
      "application/vnd.jupyter.widget-view+json": {
       "model_id": "16bb30ab215d4395a6ca066042ab8f3f",
       "version_major": 2,
       "version_minor": 0
      },
      "text/plain": [
       "  0%|          | 0/50 [00:00<?, ?it/s]"
      ]
     },
     "metadata": {},
     "output_type": "display_data"
    },
    {
     "data": {
      "application/vnd.jupyter.widget-view+json": {
       "model_id": "6ae7e99b992c4e56a935b59e5f292de8",
       "version_major": 2,
       "version_minor": 0
      },
      "text/plain": [
       "  0%|          | 0/50 [00:00<?, ?it/s]"
      ]
     },
     "metadata": {},
     "output_type": "display_data"
    },
    {
     "data": {
      "application/vnd.jupyter.widget-view+json": {
       "model_id": "b0afd5704b7842ffbcd9ddbe20d2bdef",
       "version_major": 2,
       "version_minor": 0
      },
      "text/plain": [
       "  0%|          | 0/50 [00:00<?, ?it/s]"
      ]
     },
     "metadata": {},
     "output_type": "display_data"
    },
    {
     "name": "stdout",
     "output_type": "stream",
     "text": [
      "Remote end closed connection without response\n",
      "Error : virus-like particles AND Animals\n"
     ]
    },
    {
     "data": {
      "application/vnd.jupyter.widget-view+json": {
       "model_id": "a1153199c3d0435aafc473a56828a503",
       "version_major": 2,
       "version_minor": 0
      },
      "text/plain": [
       "  0%|          | 0/58 [00:00<?, ?it/s]"
      ]
     },
     "metadata": {},
     "output_type": "display_data"
    },
    {
     "data": {
      "application/vnd.jupyter.widget-view+json": {
       "model_id": "9046bb74fcae4d589b7ca19d91554dba",
       "version_major": 2,
       "version_minor": 0
      },
      "text/plain": [
       "  0%|          | 0/58 [00:00<?, ?it/s]"
      ]
     },
     "metadata": {},
     "output_type": "display_data"
    },
    {
     "name": "stdout",
     "output_type": "stream",
     "text": [
      "Supplied id parameter is empty.\n",
      "Error : 5MP AND Sulfhydryl Compounds\n",
      "Supplied id parameter is empty.\n",
      "Error : 5MP AND Models, Molecular\n",
      "Supplied id parameter is empty.\n",
      "Error : 5MP AND Pyrroles\n",
      "Supplied id parameter is empty.\n",
      "Error : 5MP AND Acetolactate Synthase\n",
      "Supplied id parameter is empty.\n",
      "Error : 5MP AND Escherichia coli\n",
      "Supplied id parameter is empty.\n",
      "Error : 5MP AND Isoenzymes\n"
     ]
    },
    {
     "data": {
      "application/vnd.jupyter.widget-view+json": {
       "model_id": "dc81ca4cc53e4211b94ca282004bd5c9",
       "version_major": 2,
       "version_minor": 0
      },
      "text/plain": [
       "  0%|          | 0/27 [00:00<?, ?it/s]"
      ]
     },
     "metadata": {},
     "output_type": "display_data"
    },
    {
     "data": {
      "application/vnd.jupyter.widget-view+json": {
       "model_id": "535cd69e263a4b83aed694665cc447f7",
       "version_major": 2,
       "version_minor": 0
      },
      "text/plain": [
       "  0%|          | 0/50 [00:00<?, ?it/s]"
      ]
     },
     "metadata": {},
     "output_type": "display_data"
    },
    {
     "data": {
      "application/vnd.jupyter.widget-view+json": {
       "model_id": "3464b8725b7f4a65a19e02084101a12e",
       "version_major": 2,
       "version_minor": 0
      },
      "text/plain": [
       "  0%|          | 0/50 [00:00<?, ?it/s]"
      ]
     },
     "metadata": {},
     "output_type": "display_data"
    },
    {
     "data": {
      "application/vnd.jupyter.widget-view+json": {
       "model_id": "d9d8fb22dfe241fdb30e6e15e2ac6858",
       "version_major": 2,
       "version_minor": 0
      },
      "text/plain": [
       "  0%|          | 0/50 [00:00<?, ?it/s]"
      ]
     },
     "metadata": {},
     "output_type": "display_data"
    },
    {
     "data": {
      "application/vnd.jupyter.widget-view+json": {
       "model_id": "c94f2b5b4b864590a6535c7f2c00a371",
       "version_major": 2,
       "version_minor": 0
      },
      "text/plain": [
       "  0%|          | 0/50 [00:00<?, ?it/s]"
      ]
     },
     "metadata": {},
     "output_type": "display_data"
    },
    {
     "data": {
      "application/vnd.jupyter.widget-view+json": {
       "model_id": "251b1ca66faf486583d0e2ecd29fa485",
       "version_major": 2,
       "version_minor": 0
      },
      "text/plain": [
       "  0%|          | 0/50 [00:00<?, ?it/s]"
      ]
     },
     "metadata": {},
     "output_type": "display_data"
    },
    {
     "data": {
      "application/vnd.jupyter.widget-view+json": {
       "model_id": "9a29eadab3fe453faad94746ea0947e2",
       "version_major": 2,
       "version_minor": 0
      },
      "text/plain": [
       "  0%|          | 0/50 [00:00<?, ?it/s]"
      ]
     },
     "metadata": {},
     "output_type": "display_data"
    },
    {
     "data": {
      "application/vnd.jupyter.widget-view+json": {
       "model_id": "00eb73202ab94cb4bb2a6afb0b805420",
       "version_major": 2,
       "version_minor": 0
      },
      "text/plain": [
       "  0%|          | 0/50 [00:00<?, ?it/s]"
      ]
     },
     "metadata": {},
     "output_type": "display_data"
    },
    {
     "data": {
      "application/vnd.jupyter.widget-view+json": {
       "model_id": "591cbf031d8549458641299acf99d3e1",
       "version_major": 2,
       "version_minor": 0
      },
      "text/plain": [
       "  0%|          | 0/50 [00:00<?, ?it/s]"
      ]
     },
     "metadata": {},
     "output_type": "display_data"
    },
    {
     "name": "stdout",
     "output_type": "stream",
     "text": [
      "[WinError 10054] An existing connection was forcibly closed by the remote host\n",
      "Error : liquid-liquid separation AND Organelles\n",
      "[WinError 10054] An existing connection was forcibly closed by the remote host\n",
      "Error : liquid-liquid separation AND Chemical Fractionation\n"
     ]
    },
    {
     "data": {
      "application/vnd.jupyter.widget-view+json": {
       "model_id": "e08a5d55bb61435baccf19186f623893",
       "version_major": 2,
       "version_minor": 0
      },
      "text/plain": [
       "  0%|          | 0/50 [00:00<?, ?it/s]"
      ]
     },
     "metadata": {},
     "output_type": "display_data"
    },
    {
     "data": {
      "application/vnd.jupyter.widget-view+json": {
       "model_id": "60c4287c5572426ba006db58941db513",
       "version_major": 2,
       "version_minor": 0
      },
      "text/plain": [
       "  0%|          | 0/50 [00:00<?, ?it/s]"
      ]
     },
     "metadata": {},
     "output_type": "display_data"
    },
    {
     "data": {
      "application/vnd.jupyter.widget-view+json": {
       "model_id": "ae5a9e890b7f4b5e917f08ac7222f084",
       "version_major": 2,
       "version_minor": 0
      },
      "text/plain": [
       "  0%|          | 0/78 [00:00<?, ?it/s]"
      ]
     },
     "metadata": {},
     "output_type": "display_data"
    },
    {
     "name": "stdout",
     "output_type": "stream",
     "text": [
      "[WinError 10053] An established connection was aborted by the software in your host machine\n",
      "Error : ELP AND Phase Transition\n"
     ]
    },
    {
     "data": {
      "application/vnd.jupyter.widget-view+json": {
       "model_id": "a32240e1c424482f9c5ed579a0834d64",
       "version_major": 2,
       "version_minor": 0
      },
      "text/plain": [
       "  0%|          | 0/50 [00:00<?, ?it/s]"
      ]
     },
     "metadata": {},
     "output_type": "display_data"
    },
    {
     "data": {
      "application/vnd.jupyter.widget-view+json": {
       "model_id": "df64725e31354f728f85659f5b1c9374",
       "version_major": 2,
       "version_minor": 0
      },
      "text/plain": [
       "  0%|          | 0/81 [00:00<?, ?it/s]"
      ]
     },
     "metadata": {},
     "output_type": "display_data"
    },
    {
     "data": {
      "application/vnd.jupyter.widget-view+json": {
       "model_id": "819736f898d948ee8640e42e818cc010",
       "version_major": 2,
       "version_minor": 0
      },
      "text/plain": [
       "  0%|          | 0/50 [00:00<?, ?it/s]"
      ]
     },
     "metadata": {},
     "output_type": "display_data"
    },
    {
     "data": {
      "application/vnd.jupyter.widget-view+json": {
       "model_id": "41b948b145b9430a8d2f0a1f57441234",
       "version_major": 2,
       "version_minor": 0
      },
      "text/plain": [
       "  0%|          | 0/50 [00:00<?, ?it/s]"
      ]
     },
     "metadata": {},
     "output_type": "display_data"
    },
    {
     "name": "stdout",
     "output_type": "stream",
     "text": [
      "[WinError 10054] An existing connection was forcibly closed by the remote host\n",
      "Error : polymer precipitation AND Temperature\n",
      "[WinError 10060] A connection attempt failed because the connected party did not properly respond after a period of time, or established connection failed because connected host has failed to respond\n",
      "Error : polymer precipitation AND Adsorption\n",
      "[WinError 10053] An established connection was aborted by the software in your host machine\n",
      "Error : polymer precipitation AND Microscopy, Electron, Scanning\n"
     ]
    },
    {
     "data": {
      "application/vnd.jupyter.widget-view+json": {
       "model_id": "e7148360f5e540eab5340b78ea241d94",
       "version_major": 2,
       "version_minor": 0
      },
      "text/plain": [
       "  0%|          | 0/50 [00:00<?, ?it/s]"
      ]
     },
     "metadata": {},
     "output_type": "display_data"
    },
    {
     "data": {
      "application/vnd.jupyter.widget-view+json": {
       "model_id": "ad0564894c264c9387d704a7d129e006",
       "version_major": 2,
       "version_minor": 0
      },
      "text/plain": [
       "  0%|          | 0/50 [00:00<?, ?it/s]"
      ]
     },
     "metadata": {},
     "output_type": "display_data"
    },
    {
     "data": {
      "application/vnd.jupyter.widget-view+json": {
       "model_id": "06b7bc87e8bd4a54a227a850135d3dc9",
       "version_major": 2,
       "version_minor": 0
      },
      "text/plain": [
       "  0%|          | 0/50 [00:00<?, ?it/s]"
      ]
     },
     "metadata": {},
     "output_type": "display_data"
    },
    {
     "data": {
      "application/vnd.jupyter.widget-view+json": {
       "model_id": "0284a48f8f01425cb76c9ef851e171a7",
       "version_major": 2,
       "version_minor": 0
      },
      "text/plain": [
       "  0%|          | 0/62 [00:00<?, ?it/s]"
      ]
     },
     "metadata": {},
     "output_type": "display_data"
    },
    {
     "name": "stdout",
     "output_type": "stream",
     "text": [
      "[WinError 10054] An existing connection was forcibly closed by the remote host\n",
      "Error : IgG structure\n"
     ]
    },
    {
     "data": {
      "application/vnd.jupyter.widget-view+json": {
       "model_id": "0342adeff7a545d6b0fe5450c2593f20",
       "version_major": 2,
       "version_minor": 0
      },
      "text/plain": [
       "  0%|          | 0/50 [00:00<?, ?it/s]"
      ]
     },
     "metadata": {},
     "output_type": "display_data"
    },
    {
     "data": {
      "application/vnd.jupyter.widget-view+json": {
       "model_id": "4c497658be364b78b30da154e4d59974",
       "version_major": 2,
       "version_minor": 0
      },
      "text/plain": [
       "  0%|          | 0/75 [00:00<?, ?it/s]"
      ]
     },
     "metadata": {},
     "output_type": "display_data"
    },
    {
     "data": {
      "application/vnd.jupyter.widget-view+json": {
       "model_id": "145e450336ad4ac09b1bc54898a4c6b4",
       "version_major": 2,
       "version_minor": 0
      },
      "text/plain": [
       "  0%|          | 0/50 [00:00<?, ?it/s]"
      ]
     },
     "metadata": {},
     "output_type": "display_data"
    },
    {
     "data": {
      "application/vnd.jupyter.widget-view+json": {
       "model_id": "749b8816fddc45cc9fdc314e27c495d5",
       "version_major": 2,
       "version_minor": 0
      },
      "text/plain": [
       "  0%|          | 0/50 [00:00<?, ?it/s]"
      ]
     },
     "metadata": {},
     "output_type": "display_data"
    },
    {
     "data": {
      "application/vnd.jupyter.widget-view+json": {
       "model_id": "1a85913827ae44bca892a5a82a92857d",
       "version_major": 2,
       "version_minor": 0
      },
      "text/plain": [
       "  0%|          | 0/50 [00:00<?, ?it/s]"
      ]
     },
     "metadata": {},
     "output_type": "display_data"
    },
    {
     "data": {
      "application/vnd.jupyter.widget-view+json": {
       "model_id": "ca3e16c3c99d4914a8d820dbb9831dc9",
       "version_major": 2,
       "version_minor": 0
      },
      "text/plain": [
       "  0%|          | 0/50 [00:00<?, ?it/s]"
      ]
     },
     "metadata": {},
     "output_type": "display_data"
    },
    {
     "data": {
      "application/vnd.jupyter.widget-view+json": {
       "model_id": "71f4c485f6fc42d29df926b040a19539",
       "version_major": 2,
       "version_minor": 0
      },
      "text/plain": [
       "  0%|          | 0/50 [00:00<?, ?it/s]"
      ]
     },
     "metadata": {},
     "output_type": "display_data"
    },
    {
     "data": {
      "application/vnd.jupyter.widget-view+json": {
       "model_id": "b0574ae9faa344b18626dd11ed22e803",
       "version_major": 2,
       "version_minor": 0
      },
      "text/plain": [
       "  0%|          | 0/50 [00:00<?, ?it/s]"
      ]
     },
     "metadata": {},
     "output_type": "display_data"
    },
    {
     "data": {
      "application/vnd.jupyter.widget-view+json": {
       "model_id": "3567c024092c40aa9f239a04ff2ddfcd",
       "version_major": 2,
       "version_minor": 0
      },
      "text/plain": [
       "  0%|          | 0/57 [00:00<?, ?it/s]"
      ]
     },
     "metadata": {},
     "output_type": "display_data"
    },
    {
     "data": {
      "application/vnd.jupyter.widget-view+json": {
       "model_id": "a9f4822d039d4f6ca82977668e0f71fd",
       "version_major": 2,
       "version_minor": 0
      },
      "text/plain": [
       "  0%|          | 0/50 [00:00<?, ?it/s]"
      ]
     },
     "metadata": {},
     "output_type": "display_data"
    },
    {
     "data": {
      "application/vnd.jupyter.widget-view+json": {
       "model_id": "5ed1aa1175d94962904de27cd582da51",
       "version_major": 2,
       "version_minor": 0
      },
      "text/plain": [
       "  0%|          | 0/50 [00:00<?, ?it/s]"
      ]
     },
     "metadata": {},
     "output_type": "display_data"
    },
    {
     "data": {
      "application/vnd.jupyter.widget-view+json": {
       "model_id": "3afb214b6bb343aa9a86daf546127d4b",
       "version_major": 2,
       "version_minor": 0
      },
      "text/plain": [
       "  0%|          | 0/50 [00:00<?, ?it/s]"
      ]
     },
     "metadata": {},
     "output_type": "display_data"
    },
    {
     "data": {
      "application/vnd.jupyter.widget-view+json": {
       "model_id": "c0f8188094b34232a33e01c3f656ab49",
       "version_major": 2,
       "version_minor": 0
      },
      "text/plain": [
       "  0%|          | 0/50 [00:00<?, ?it/s]"
      ]
     },
     "metadata": {},
     "output_type": "display_data"
    },
    {
     "data": {
      "application/vnd.jupyter.widget-view+json": {
       "model_id": "e6c470e2d9ab49898aec9bcea021e875",
       "version_major": 2,
       "version_minor": 0
      },
      "text/plain": [
       "  0%|          | 0/50 [00:00<?, ?it/s]"
      ]
     },
     "metadata": {},
     "output_type": "display_data"
    },
    {
     "data": {
      "application/vnd.jupyter.widget-view+json": {
       "model_id": "ce3762ee8db74433b6ac3c02f7360bc9",
       "version_major": 2,
       "version_minor": 0
      },
      "text/plain": [
       "  0%|          | 0/50 [00:00<?, ?it/s]"
      ]
     },
     "metadata": {},
     "output_type": "display_data"
    },
    {
     "data": {
      "application/vnd.jupyter.widget-view+json": {
       "model_id": "c00d18a334fc483c9f496471b7b89191",
       "version_major": 2,
       "version_minor": 0
      },
      "text/plain": [
       "  0%|          | 0/50 [00:00<?, ?it/s]"
      ]
     },
     "metadata": {},
     "output_type": "display_data"
    },
    {
     "data": {
      "application/vnd.jupyter.widget-view+json": {
       "model_id": "be44f6968dbb4ff094d9cf2b087ab6a0",
       "version_major": 2,
       "version_minor": 0
      },
      "text/plain": [
       "  0%|          | 0/18 [00:00<?, ?it/s]"
      ]
     },
     "metadata": {},
     "output_type": "display_data"
    },
    {
     "name": "stdout",
     "output_type": "stream",
     "text": [
      "Supplied id parameter is empty.\n",
      "Error : Gradipore\n"
     ]
    },
    {
     "data": {
      "application/vnd.jupyter.widget-view+json": {
       "model_id": "f2f64e5487154103a2dd2b49aad0b2c4",
       "version_major": 2,
       "version_minor": 0
      },
      "text/plain": [
       "0it [00:00, ?it/s]"
      ]
     },
     "metadata": {},
     "output_type": "display_data"
    },
    {
     "data": {
      "application/vnd.jupyter.widget-view+json": {
       "model_id": "e84c20c1628f45d2a422e5e4595abe99",
       "version_major": 2,
       "version_minor": 0
      },
      "text/plain": [
       "  0%|          | 0/50 [00:00<?, ?it/s]"
      ]
     },
     "metadata": {},
     "output_type": "display_data"
    },
    {
     "data": {
      "application/vnd.jupyter.widget-view+json": {
       "model_id": "1baa7ed92eb545bc8050b1c577bc2447",
       "version_major": 2,
       "version_minor": 0
      },
      "text/plain": [
       "  0%|          | 0/50 [00:00<?, ?it/s]"
      ]
     },
     "metadata": {},
     "output_type": "display_data"
    },
    {
     "name": "stdout",
     "output_type": "stream",
     "text": [
      "Supplied id parameter is empty.\n",
      "Error : Chreto\n"
     ]
    },
    {
     "data": {
      "application/vnd.jupyter.widget-view+json": {
       "model_id": "e30358d211ce457ca7ebcd58b6bfe498",
       "version_major": 2,
       "version_minor": 0
      },
      "text/plain": [
       "0it [00:00, ?it/s]"
      ]
     },
     "metadata": {},
     "output_type": "display_data"
    }
   ],
   "source": [
    "from Bio import Entrez\n",
    "for key in domain_mesh.keys():\n",
    "    cache_articles[key] = extract_articles_cache(key,domain_mesh) "
   ]
  },
  {
   "cell_type": "code",
   "execution_count": 22,
   "id": "a50b9640",
   "metadata": {},
   "outputs": [
    {
     "data": {
      "text/plain": [
       "49"
      ]
     },
     "execution_count": 22,
     "metadata": {},
     "output_type": "execute_result"
    }
   ],
   "source": [
    "len(cache_articles)"
   ]
  },
  {
   "cell_type": "code",
   "execution_count": 34,
   "id": "c5134665",
   "metadata": {},
   "outputs": [],
   "source": [
    "import datetime\n",
    "from json import JSONEncoder\n",
    "# subclass JSONEncoder\n",
    "class DateTimeEncoder(JSONEncoder):\n",
    "    #Override the default method\n",
    "    def default(self, obj):\n",
    "        if isinstance(obj, (datetime.date, datetime.datetime)):\n",
    "            return obj.isoformat()"
   ]
  },
  {
   "cell_type": "code",
   "execution_count": 91,
   "id": "d34502f3",
   "metadata": {},
   "outputs": [],
   "source": [
    "import pickle\n",
    "with open('cache_articles.json', 'w') as f:\n",
    "    json.dump(cache_articles, f,indent=4, cls=DateTimeEncoder)"
   ]
  },
  {
   "cell_type": "code",
   "execution_count": 51,
   "id": "c35e5253",
   "metadata": {},
   "outputs": [],
   "source": [
    "# import json\n",
    "# import dateutil.parser\n",
    "\n",
    "# # custom Decoder\n",
    "# def DecodeDateTime(Dict):\n",
    "#     if 'publication_date' in Dict and Dict[\"publication_date\"]!=None:\n",
    "#         Dict[\"publication_date\"] = dateutil.parser.parse(Dict[\"publication_date\"])\n",
    "#         return Dict\n",
    "#     else:\n",
    "#         return Dict\n",
    "\n",
    "# # use of object_hook\n",
    "# with open('cache_articles.json', 'r') as f:\n",
    "#     decoded_cache_articles = json.load(f,object_hook=DecodeDateTime)\n",
    "# print(len(decoded_cache_articles))"
   ]
  },
  {
   "cell_type": "code",
   "execution_count": 71,
   "id": "98a2eb23",
   "metadata": {},
   "outputs": [
    {
     "data": {
      "text/plain": [
       "dict_keys(['affinity', 'membrane', 'TFF', 'continuous processing', 'virus capsid', 'virus-like particles', 'bioconjugation', '5MP', '5MPs', 'crystalization', 'aptamer', 'photoresponsive', 'HCIC', 'thermoresponsive polymer', 'covalent capture', 'ionic liquids', 'liquid-liquid separation', 'Astrea', 'Prometic', 'ELP', 'affinity precipitation', 'Protein A', 'PEG', 'polymer precipitation', 'ATPS', 'magnetic particles', 'droplet forming protein', 'intein', 'IgG structure', 'Protein L', 'charged membrane', 'peptoid', 'PVA', 'PVP', 'monolith', 'novel support', 'VHH', 'precipitation', 'Protein G', 'PAA', 'expanded bed', 'ion exchange', 'membrane chromatography', 'supercritical fluid', 'electrophoresis', 'Gradipore', 'recombinant IgG', 'cyclic peptides', 'Chreto'])"
      ]
     },
     "execution_count": 71,
     "metadata": {},
     "output_type": "execute_result"
    }
   ],
   "source": [
    "cache_articles.keys()"
   ]
  },
  {
   "cell_type": "code",
   "execution_count": null,
   "id": "e0ac5171",
   "metadata": {},
   "outputs": [],
   "source": []
  }
 ],
 "metadata": {
  "kernelspec": {
   "display_name": "Python 3",
   "language": "python",
   "name": "python3"
  },
  "language_info": {
   "codemirror_mode": {
    "name": "ipython",
    "version": 3
   },
   "file_extension": ".py",
   "mimetype": "text/x-python",
   "name": "python",
   "nbconvert_exporter": "python",
   "pygments_lexer": "ipython3",
   "version": "3.8.8"
  }
 },
 "nbformat": 4,
 "nbformat_minor": 5
}
